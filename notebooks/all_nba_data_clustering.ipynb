{
 "cells": [
  {
   "cell_type": "code",
   "execution_count": 1,
   "metadata": {},
   "outputs": [],
   "source": [
    "import pandas as pd\n",
    "import numpy as np\n",
    "pd.set_option('display.max_columns', None)\n",
    "from sklearn.decomposition import PCA\n",
    "from sklearn.preprocessing import MinMaxScaler\n",
    "from sklearn.preprocessing import StandardScaler\n",
    "import matplotlib.pyplot as plt\n",
    "from sklearn.cluster import KMeans\n",
    "from sklearn import metrics\n",
    "from sklearn.metrics import silhouette_score"
   ]
  },
  {
   "cell_type": "code",
   "execution_count": 3,
   "metadata": {},
   "outputs": [],
   "source": [
    "nba_data = pd.read_csv('../data/finalmasterdata.csv')"
   ]
  },
  {
   "cell_type": "code",
   "execution_count": 5,
   "metadata": {},
   "outputs": [
    {
     "name": "stdout",
     "output_type": "stream",
     "text": [
      "<class 'pandas.core.frame.DataFrame'>\n",
      "RangeIndex: 8469 entries, 0 to 8468\n",
      "Data columns (total 41 columns):\n",
      "Unnamed: 0    8469 non-null int64\n",
      "Player        8469 non-null object\n",
      "DRtg          8469 non-null int64\n",
      "Season        8469 non-null object\n",
      "ORtg          8469 non-null float64\n",
      "USG%          8469 non-null float64\n",
      "VORP          8469 non-null float64\n",
      "WS            8469 non-null float64\n",
      "PER           8469 non-null float64\n",
      "Rk            8469 non-null float64\n",
      "Age           8469 non-null float64\n",
      "Tm            8469 non-null object\n",
      "Lg            8469 non-null object\n",
      "G             8469 non-null float64\n",
      "GS            8469 non-null float64\n",
      "MP            8469 non-null float64\n",
      "FG            8469 non-null float64\n",
      "FGA           8469 non-null float64\n",
      "2P            8469 non-null float64\n",
      "2PA           8469 non-null float64\n",
      "3P            8469 non-null float64\n",
      "3PA           8469 non-null float64\n",
      "FT            8469 non-null float64\n",
      "FTA           8469 non-null float64\n",
      "ORB           8469 non-null float64\n",
      "DRB           8469 non-null float64\n",
      "TRB           8469 non-null float64\n",
      "AST           8469 non-null float64\n",
      "STL           8469 non-null float64\n",
      "BLK           8469 non-null float64\n",
      "TOV           8469 non-null float64\n",
      "PF            8469 non-null float64\n",
      "PTS           8469 non-null float64\n",
      "FG%           8469 non-null float64\n",
      "2P%           8469 non-null float64\n",
      "3P%           8469 non-null float64\n",
      "eFG%          8469 non-null float64\n",
      "FT%           8469 non-null float64\n",
      "TS%           8469 non-null float64\n",
      "Year          8469 non-null int64\n",
      "Pos           8469 non-null object\n",
      "dtypes: float64(33), int64(3), object(5)\n",
      "memory usage: 2.6+ MB\n"
     ]
    }
   ],
   "source": [
    "nba_data.info()"
   ]
  },
  {
   "cell_type": "code",
   "execution_count": null,
   "metadata": {},
   "outputs": [],
   "source": []
  }
 ],
 "metadata": {
  "kernelspec": {
   "display_name": "Python 3",
   "language": "python",
   "name": "python3"
  },
  "language_info": {
   "codemirror_mode": {
    "name": "ipython",
    "version": 3
   },
   "file_extension": ".py",
   "mimetype": "text/x-python",
   "name": "python",
   "nbconvert_exporter": "python",
   "pygments_lexer": "ipython3",
   "version": "3.7.4"
  }
 },
 "nbformat": 4,
 "nbformat_minor": 2
}
