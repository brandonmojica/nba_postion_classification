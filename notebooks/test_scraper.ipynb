{
 "cells": [
  {
   "cell_type": "code",
   "execution_count": 1,
   "metadata": {},
   "outputs": [],
   "source": [
    "from bs4 import BeautifulSoup\n",
    "from pymongo import MongoClient\n",
    "import os\n",
    "import requests\n",
    "from selenium import webdriver\n",
    "import selenium\n",
    "import time\n",
    "import re\n",
    "import pprint"
   ]
  },
  {
   "cell_type": "code",
   "execution_count": 66,
   "metadata": {},
   "outputs": [],
   "source": [
    "webpage = requests.get('https://www.basketball-reference.com/teams/')\n",
    "soup = BeautifulSoup(webpage.text,'html.parser')"
   ]
  },
  {
   "cell_type": "code",
   "execution_count": 59,
   "metadata": {},
   "outputs": [],
   "source": [
    "tag = soup.find_all(\"div\", {\"id\": \"all_teams_active\"})"
   ]
  },
  {
   "cell_type": "code",
   "execution_count": 62,
   "metadata": {},
   "outputs": [
    {
     "data": {
      "text/plain": [
       "[]"
      ]
     },
     "execution_count": 62,
     "metadata": {},
     "output_type": "execute_result"
    }
   ],
   "source": [
    "soup.find_all('a',class_='full_table')"
   ]
  },
  {
   "cell_type": "code",
   "execution_count": 63,
   "metadata": {},
   "outputs": [
    {
     "data": {
      "text/plain": [
       "[<a href=\"http://sportslogos.net/\">SportsLogos.net.</a>]"
      ]
     },
     "execution_count": 63,
     "metadata": {},
     "output_type": "execute_result"
    }
   ],
   "source": [
    "soup.findAll('a', attrs={'href': re.compile(\"^http://\")})"
   ]
  },
  {
   "cell_type": "code",
   "execution_count": 73,
   "metadata": {},
   "outputs": [
    {
     "name": "stdout",
     "output_type": "stream",
     "text": [
      "https://www.basketball-reference.com/teams/ATL/\n",
      "https://www.basketball-reference.com/teams/BOS/\n",
      "https://www.basketball-reference.com/teams/NJN/\n",
      "https://www.basketball-reference.com/teams/CHA/\n",
      "https://www.basketball-reference.com/teams/CHI/\n",
      "https://www.basketball-reference.com/teams/CLE/\n",
      "https://www.basketball-reference.com/teams/DAL/\n",
      "https://www.basketball-reference.com/teams/DEN/\n",
      "https://www.basketball-reference.com/teams/DET/\n",
      "https://www.basketball-reference.com/teams/GSW/\n",
      "https://www.basketball-reference.com/teams/HOU/\n",
      "https://www.basketball-reference.com/teams/IND/\n",
      "https://www.basketball-reference.com/teams/LAC/\n",
      "https://www.basketball-reference.com/teams/LAL/\n",
      "https://www.basketball-reference.com/teams/MEM/\n",
      "https://www.basketball-reference.com/teams/MIA/\n",
      "https://www.basketball-reference.com/teams/MIL/\n",
      "https://www.basketball-reference.com/teams/MIN/\n",
      "https://www.basketball-reference.com/teams/NOH/\n",
      "https://www.basketball-reference.com/teams/NYK/\n",
      "https://www.basketball-reference.com/teams/OKC/\n",
      "https://www.basketball-reference.com/teams/ORL/\n",
      "https://www.basketball-reference.com/teams/PHI/\n",
      "https://www.basketball-reference.com/teams/PHO/\n",
      "https://www.basketball-reference.com/teams/POR/\n",
      "https://www.basketball-reference.com/teams/SAC/\n",
      "https://www.basketball-reference.com/teams/SAS/\n",
      "https://www.basketball-reference.com/teams/TOR/\n",
      "https://www.basketball-reference.com/teams/UTA/\n",
      "https://www.basketball-reference.com/teams/WAS/\n",
      "https://www.basketball-reference.com/teams/AND/\n",
      "https://www.basketball-reference.com/teams/BLB/\n",
      "https://www.basketball-reference.com/teams/CHS/\n",
      "https://www.basketball-reference.com/teams/CLR/\n",
      "https://www.basketball-reference.com/teams/DNN/\n",
      "https://www.basketball-reference.com/teams/DTF/\n",
      "https://www.basketball-reference.com/teams/INJ/\n",
      "https://www.basketball-reference.com/teams/INO/\n",
      "https://www.basketball-reference.com/teams/KEN/\n",
      "https://www.basketball-reference.com/teams/MMS/\n",
      "https://www.basketball-reference.com/teams/PTC/\n",
      "https://www.basketball-reference.com/teams/PIT/\n",
      "https://www.basketball-reference.com/teams/PRO/\n",
      "https://www.basketball-reference.com/teams/SDS/\n",
      "https://www.basketball-reference.com/teams/SHE/\n",
      "https://www.basketball-reference.com/teams/SSL/\n",
      "https://www.basketball-reference.com/teams/STB/\n",
      "https://www.basketball-reference.com/teams/FLO/\n",
      "https://www.basketball-reference.com/teams/TRH/\n",
      "https://www.basketball-reference.com/teams/UTS/\n",
      "https://www.basketball-reference.com/teams/VIR/\n",
      "https://www.basketball-reference.com/teams/WSC/\n",
      "https://www.basketball-reference.com/teams/WAT/\n"
     ]
    }
   ],
   "source": [
    "data = soup.findAll('div',attrs={'class':'table_outer_container'})\n",
    "\n",
    "\n",
    "\n",
    "## take all of the team abbreviatons and store them to use in the script for stat data\n",
    "\n",
    "for div in data:\n",
    "    links = div.findAll('a')\n",
    "    for a in links:\n",
    "        print (\"https://www.basketball-reference.com\" + a['href'])"
   ]
  },
  {
   "cell_type": "code",
   "execution_count": null,
   "metadata": {},
   "outputs": [],
   "source": [
    "li"
   ]
  }
 ],
 "metadata": {
  "kernelspec": {
   "display_name": "Python 3",
   "language": "python",
   "name": "python3"
  },
  "language_info": {
   "codemirror_mode": {
    "name": "ipython",
    "version": 3
   },
   "file_extension": ".py",
   "mimetype": "text/x-python",
   "name": "python",
   "nbconvert_exporter": "python",
   "pygments_lexer": "ipython3",
   "version": "3.7.4"
  }
 },
 "nbformat": 4,
 "nbformat_minor": 2
}
