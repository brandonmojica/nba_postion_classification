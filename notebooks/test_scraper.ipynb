{
 "cells": [
  {
   "cell_type": "code",
   "execution_count": 80,
   "metadata": {},
   "outputs": [],
   "source": [
    "from bs4 import BeautifulSoup\n",
    "from pymongo import MongoClient\n",
    "import os\n",
    "import requests\n",
    "from selenium import webdriver\n",
    "import selenium\n",
    "import time\n",
    "import re\n",
    "import pprint\n",
    "import pandas as pd\n",
    "import numpy as np\n",
    "pd.set_option('display.max_columns', None)"
   ]
  },
  {
   "cell_type": "code",
   "execution_count": 36,
   "metadata": {},
   "outputs": [
    {
     "data": {
      "text/plain": [
       "[]"
      ]
     },
     "execution_count": 36,
     "metadata": {},
     "output_type": "execute_result"
    }
   ],
   "source": [
    "table = soup.findAll('div',attrs={\"class\":\"content-question\"})\n",
    "for x in table:\n",
    "    print x.find('p').text"
   ]
  },
  {
   "cell_type": "code",
   "execution_count": 67,
   "metadata": {},
   "outputs": [
    {
     "data": {
      "text/plain": [
       "'/Users/brandonmojica/Desktop/Galvanize/Capstones/Capstone_3/nba_postion_classification/notebooks'"
      ]
     },
     "execution_count": 67,
     "metadata": {},
     "output_type": "execute_result"
    }
   ],
   "source": [
    "pwd"
   ]
  },
  {
   "cell_type": "code",
   "execution_count": 81,
   "metadata": {},
   "outputs": [],
   "source": [
    "data = pd.read_csv('/Users/brandonmojica/Desktop/Galvanize/Capstones/Capstone_3/nba_postion_classification/data/raptors_shooting.txt')"
   ]
  },
  {
   "cell_type": "code",
   "execution_count": 82,
   "metadata": {},
   "outputs": [
    {
     "data": {
      "text/plain": [
       "Index(['Unnamed: 0', 'Unnamed: 1', 'Unnamed: 2', 'Unnamed: 3', 'Unnamed: 4',\n",
       "       'Unnamed: 5', 'Unnamed: 6', 'Unnamed: 7', 'Unnamed: 8', 'Unnamed: 9',\n",
       "       'Unnamed: 10', 'Unnamed: 11', 'Unnamed: 12', 'Unnamed: 13',\n",
       "       'Unnamed: 14', 'Unnamed: 15', 'Unnamed: 16', 'Unnamed: 17',\n",
       "       'Unnamed: 18', '2-Pt Field Goals', '2-Pt Field Goals.1',\n",
       "       '2-Pt Field Goals.2', '3-Pt Field Goals', '3-Pt Field Goals.1',\n",
       "       '3-Pt Field Goals.2', '3-Pt Field Goals.3', '3-Pt Field Goals.4'],\n",
       "      dtype='object')"
      ]
     },
     "execution_count": 82,
     "metadata": {},
     "output_type": "execute_result"
    }
   ],
   "source": [
    "data.columns"
   ]
  },
  {
   "cell_type": "code",
   "execution_count": 84,
   "metadata": {},
   "outputs": [],
   "source": [
    "data.rename(columns={\"Unnamed: 0\": \"Rank\", \"Unnamed: 1\": \"Name\", \"Unnamed: 2\": \"Age\", \"Unnamed: 3\": \"games\", \"Unnamed: 4\": \"min_played\", \"Unnamed: 5\": \"FG%\", \"Unnamed: 6\": \"Avg_shot_dist\",\"Unnamed: 7\": \"%_2point_attempts\",\"Unnamed: 8\": \"%_FGA_0-3_dist\", \"Unnamed: 9\": \"%_FGA_3-10_dist\", \"Unnamed: 10\": \"%_FGA_10-16_dist\", \"Unnamed: 11\":\"%_FGA_16-3pt_dist\", \"Unnamed: 12\": \"%_3point_attempts\",\"Unnamed: 13\":\"%FG_2point\", \"Unnamed: 14\": \"%_FG_0-3_dist\", \"Unnamed: 15\": \"%_FG_3-10_dist\", \"Unnamed: 16\":\"%_FG_10-16_dist\", \"Unnamed: 17\": \"%_FG_10-16_dist\", \"Unnamed: 18\":\"3pt%\", \"2-Pt Field Goals\": \"assisted_2pters\", \"2-Pt Field Goals.1\": \"FG%_dunk_attempts\",\"2-Pt Field Goals.2\":\"made_dunks\",\"3-Pt Field Goals\": \"assisted_3pt%\", \"3-Pt Field Goals.1\": \"%_corner_3pters\",\"3-Pt Field Goals.2\": \"%_corner_3_made\"}, errors=\"raise\", inplace=True)\n",
    "\n",
    "\n",
    "\n",
    "\n",
    "\n"
   ]
  },
  {
   "cell_type": "code",
   "execution_count": 86,
   "metadata": {},
   "outputs": [],
   "source": [
    "data.to_csv(r'/Users/brandonmojica/Desktop/Galvanize/Capstones/Capstone_3/nba_postion_classification/data/shooting_stats.csv')"
   ]
  },
  {
   "cell_type": "code",
   "execution_count": 64,
   "metadata": {},
   "outputs": [],
   "source": [
    "webpage = requests.get('https://www.basketball-reference.com/teams/OKC/2020.html')\n",
    "soup = BeautifulSoup(webpage.text,'html.parser')"
   ]
  },
  {
   "cell_type": "code",
   "execution_count": 85,
   "metadata": {},
   "outputs": [
    {
     "data": {
      "text/plain": [
       "'/Users/brandonmojica/Desktop/Galvanize/Capstones/Capstone_3/nba_postion_classification/notebooks'"
      ]
     },
     "execution_count": 85,
     "metadata": {},
     "output_type": "execute_result"
    }
   ],
   "source": [
    "pwd"
   ]
  },
  {
   "cell_type": "code",
   "execution_count": 79,
   "metadata": {},
   "outputs": [
    {
     "data": {
      "text/html": [
       "<div>\n",
       "<style scoped>\n",
       "    .dataframe tbody tr th:only-of-type {\n",
       "        vertical-align: middle;\n",
       "    }\n",
       "\n",
       "    .dataframe tbody tr th {\n",
       "        vertical-align: top;\n",
       "    }\n",
       "\n",
       "    .dataframe thead th {\n",
       "        text-align: right;\n",
       "    }\n",
       "</style>\n",
       "<table border=\"1\" class=\"dataframe\">\n",
       "  <thead>\n",
       "    <tr style=\"text-align: right;\">\n",
       "      <th></th>\n",
       "      <th>Unnamed: 0</th>\n",
       "      <th>Unnamed: 1</th>\n",
       "      <th>Unnamed: 2</th>\n",
       "      <th>Unnamed: 3</th>\n",
       "      <th>Unnamed: 4</th>\n",
       "      <th>Unnamed: 5</th>\n",
       "      <th>Unnamed: 6</th>\n",
       "      <th>Unnamed: 7</th>\n",
       "      <th>Unnamed: 8</th>\n",
       "      <th>Unnamed: 9</th>\n",
       "      <th>Unnamed: 10</th>\n",
       "      <th>Unnamed: 11</th>\n",
       "      <th>Unnamed: 12</th>\n",
       "      <th>Unnamed: 13</th>\n",
       "      <th>Unnamed: 14</th>\n",
       "      <th>Unnamed: 15</th>\n",
       "      <th>Unnamed: 16</th>\n",
       "      <th>Unnamed: 17</th>\n",
       "      <th>Unnamed: 18</th>\n",
       "      <th>2-Pt Field Goals</th>\n",
       "      <th>2-Pt Field Goals.1</th>\n",
       "      <th>2-Pt Field Goals.2</th>\n",
       "      <th>3-Pt Field Goals</th>\n",
       "      <th>3-Pt Field Goals.1</th>\n",
       "      <th>3-Pt Field Goals.2</th>\n",
       "      <th>3-Pt Field Goals.3</th>\n",
       "      <th>3-Pt Field Goals.4</th>\n",
       "    </tr>\n",
       "  </thead>\n",
       "  <tbody>\n",
       "    <tr>\n",
       "      <td>0</td>\n",
       "      <td>NaN</td>\n",
       "      <td>NaN</td>\n",
       "      <td>NaN</td>\n",
       "      <td>NaN</td>\n",
       "      <td>NaN</td>\n",
       "      <td>NaN</td>\n",
       "      <td>NaN</td>\n",
       "      <td>% of FGA by Distance</td>\n",
       "      <td>% of FGA by Distance</td>\n",
       "      <td>% of FGA by Distance</td>\n",
       "      <td>% of FGA by Distance</td>\n",
       "      <td>% of FGA by Distance</td>\n",
       "      <td>% of FGA by Distance</td>\n",
       "      <td>FG% by Distance</td>\n",
       "      <td>FG% by Distance</td>\n",
       "      <td>FG% by Distance</td>\n",
       "      <td>FG% by Distance</td>\n",
       "      <td>FG% by Distance</td>\n",
       "      <td>FG% by Distance</td>\n",
       "      <td>NaN</td>\n",
       "      <td>Dunks</td>\n",
       "      <td>Dunks</td>\n",
       "      <td>NaN</td>\n",
       "      <td>Corner</td>\n",
       "      <td>Corner</td>\n",
       "      <td>Heaves</td>\n",
       "      <td>Heaves</td>\n",
       "    </tr>\n",
       "    <tr>\n",
       "      <td>1</td>\n",
       "      <td>Rk</td>\n",
       "      <td>NaN</td>\n",
       "      <td>Age</td>\n",
       "      <td>G</td>\n",
       "      <td>MP</td>\n",
       "      <td>FG%</td>\n",
       "      <td>Dist.</td>\n",
       "      <td>2P</td>\n",
       "      <td>0-3</td>\n",
       "      <td>3-10</td>\n",
       "      <td>10-16</td>\n",
       "      <td>16-3pt</td>\n",
       "      <td>3P</td>\n",
       "      <td>2P%</td>\n",
       "      <td>0-3</td>\n",
       "      <td>3-10</td>\n",
       "      <td>10-16</td>\n",
       "      <td>16-3pt</td>\n",
       "      <td>3P%</td>\n",
       "      <td>%Ast'd</td>\n",
       "      <td>%FGA</td>\n",
       "      <td>Md.</td>\n",
       "      <td>%Ast'd</td>\n",
       "      <td>%3PA</td>\n",
       "      <td>3P%</td>\n",
       "      <td>Att.</td>\n",
       "      <td>Md.</td>\n",
       "    </tr>\n",
       "    <tr>\n",
       "      <td>2</td>\n",
       "      <td>1</td>\n",
       "      <td>Fred VanVleet\\vanvlfr01</td>\n",
       "      <td>25</td>\n",
       "      <td>47</td>\n",
       "      <td>1682</td>\n",
       "      <td>.410</td>\n",
       "      <td>15.3</td>\n",
       "      <td>.521</td>\n",
       "      <td>.316</td>\n",
       "      <td>.105</td>\n",
       "      <td>.039</td>\n",
       "      <td>.061</td>\n",
       "      <td>.479</td>\n",
       "      <td>.430</td>\n",
       "      <td>.548</td>\n",
       "      <td>.194</td>\n",
       "      <td>.296</td>\n",
       "      <td>.310</td>\n",
       "      <td>.389</td>\n",
       "      <td>.175</td>\n",
       "      <td>.000</td>\n",
       "      <td>0</td>\n",
       "      <td>.711</td>\n",
       "      <td>.158</td>\n",
       "      <td>.442</td>\n",
       "      <td>1</td>\n",
       "      <td>0</td>\n",
       "    </tr>\n",
       "    <tr>\n",
       "      <td>3</td>\n",
       "      <td>2</td>\n",
       "      <td>OG Anunoby\\anunoog01</td>\n",
       "      <td>22</td>\n",
       "      <td>56</td>\n",
       "      <td>1640</td>\n",
       "      <td>.499</td>\n",
       "      <td>11.7</td>\n",
       "      <td>.593</td>\n",
       "      <td>.453</td>\n",
       "      <td>.109</td>\n",
       "      <td>.020</td>\n",
       "      <td>.011</td>\n",
       "      <td>.407</td>\n",
       "      <td>.592</td>\n",
       "      <td>.683</td>\n",
       "      <td>.300</td>\n",
       "      <td>.333</td>\n",
       "      <td>.200</td>\n",
       "      <td>.364</td>\n",
       "      <td>.665</td>\n",
       "      <td>.153</td>\n",
       "      <td>67</td>\n",
       "      <td>.941</td>\n",
       "      <td>.497</td>\n",
       "      <td>.355</td>\n",
       "      <td>0</td>\n",
       "      <td>0</td>\n",
       "    </tr>\n",
       "    <tr>\n",
       "      <td>4</td>\n",
       "      <td>3</td>\n",
       "      <td>Kyle Lowry\\lowryky01</td>\n",
       "      <td>33</td>\n",
       "      <td>45</td>\n",
       "      <td>1635</td>\n",
       "      <td>.420</td>\n",
       "      <td>18.1</td>\n",
       "      <td>.431</td>\n",
       "      <td>.211</td>\n",
       "      <td>.098</td>\n",
       "      <td>.049</td>\n",
       "      <td>.074</td>\n",
       "      <td>.569</td>\n",
       "      <td>.504</td>\n",
       "      <td>.649</td>\n",
       "      <td>.323</td>\n",
       "      <td>.452</td>\n",
       "      <td>.362</td>\n",
       "      <td>.357</td>\n",
       "      <td>.239</td>\n",
       "      <td>.000</td>\n",
       "      <td>0</td>\n",
       "      <td>.543</td>\n",
       "      <td>.086</td>\n",
       "      <td>.323</td>\n",
       "      <td>4</td>\n",
       "      <td>0</td>\n",
       "    </tr>\n",
       "    <tr>\n",
       "      <td>...</td>\n",
       "      <td>...</td>\n",
       "      <td>...</td>\n",
       "      <td>...</td>\n",
       "      <td>...</td>\n",
       "      <td>...</td>\n",
       "      <td>...</td>\n",
       "      <td>...</td>\n",
       "      <td>...</td>\n",
       "      <td>...</td>\n",
       "      <td>...</td>\n",
       "      <td>...</td>\n",
       "      <td>...</td>\n",
       "      <td>...</td>\n",
       "      <td>...</td>\n",
       "      <td>...</td>\n",
       "      <td>...</td>\n",
       "      <td>...</td>\n",
       "      <td>...</td>\n",
       "      <td>...</td>\n",
       "      <td>...</td>\n",
       "      <td>...</td>\n",
       "      <td>...</td>\n",
       "      <td>...</td>\n",
       "      <td>...</td>\n",
       "      <td>...</td>\n",
       "      <td>...</td>\n",
       "      <td>...</td>\n",
       "    </tr>\n",
       "    <tr>\n",
       "      <td>555</td>\n",
       "      <td>12</td>\n",
       "      <td>Nickeil Alexander-Walker\\alexani01</td>\n",
       "      <td>21</td>\n",
       "      <td>41</td>\n",
       "      <td>501</td>\n",
       "      <td>.339</td>\n",
       "      <td>16.3</td>\n",
       "      <td>.485</td>\n",
       "      <td>.229</td>\n",
       "      <td>.172</td>\n",
       "      <td>.057</td>\n",
       "      <td>.026</td>\n",
       "      <td>.515</td>\n",
       "      <td>.336</td>\n",
       "      <td>.462</td>\n",
       "      <td>.205</td>\n",
       "      <td>.231</td>\n",
       "      <td>.333</td>\n",
       "      <td>.342</td>\n",
       "      <td>.135</td>\n",
       "      <td>.004</td>\n",
       "      <td>1</td>\n",
       "      <td>.900</td>\n",
       "      <td>.188</td>\n",
       "      <td>.364</td>\n",
       "      <td>4</td>\n",
       "      <td>0</td>\n",
       "    </tr>\n",
       "    <tr>\n",
       "      <td>556</td>\n",
       "      <td>13</td>\n",
       "      <td>Jahlil Okafor\\okafoja01</td>\n",
       "      <td>24</td>\n",
       "      <td>27</td>\n",
       "      <td>420</td>\n",
       "      <td>.611</td>\n",
       "      <td>3.8</td>\n",
       "      <td>.986</td>\n",
       "      <td>.576</td>\n",
       "      <td>.361</td>\n",
       "      <td>.042</td>\n",
       "      <td>.000</td>\n",
       "      <td>.014</td>\n",
       "      <td>.613</td>\n",
       "      <td>.747</td>\n",
       "      <td>.423</td>\n",
       "      <td>.333</td>\n",
       "      <td>NaN</td>\n",
       "      <td>.500</td>\n",
       "      <td>.552</td>\n",
       "      <td>.132</td>\n",
       "      <td>16</td>\n",
       "      <td>1.000</td>\n",
       "      <td>.000</td>\n",
       "      <td>NaN</td>\n",
       "      <td>0</td>\n",
       "      <td>0</td>\n",
       "    </tr>\n",
       "    <tr>\n",
       "      <td>557</td>\n",
       "      <td>14</td>\n",
       "      <td>Zion Williamson\\willizi01</td>\n",
       "      <td>19</td>\n",
       "      <td>12</td>\n",
       "      <td>337</td>\n",
       "      <td>.586</td>\n",
       "      <td>4.1</td>\n",
       "      <td>.934</td>\n",
       "      <td>.746</td>\n",
       "      <td>.155</td>\n",
       "      <td>.017</td>\n",
       "      <td>.017</td>\n",
       "      <td>.066</td>\n",
       "      <td>.598</td>\n",
       "      <td>.689</td>\n",
       "      <td>.250</td>\n",
       "      <td>.333</td>\n",
       "      <td>.000</td>\n",
       "      <td>.417</td>\n",
       "      <td>.743</td>\n",
       "      <td>.171</td>\n",
       "      <td>28</td>\n",
       "      <td>1.000</td>\n",
       "      <td>.000</td>\n",
       "      <td>NaN</td>\n",
       "      <td>0</td>\n",
       "      <td>0</td>\n",
       "    </tr>\n",
       "    <tr>\n",
       "      <td>558</td>\n",
       "      <td>15</td>\n",
       "      <td>Zylan Cheatham\\cheatzy01</td>\n",
       "      <td>24</td>\n",
       "      <td>3</td>\n",
       "      <td>31</td>\n",
       "      <td>.400</td>\n",
       "      <td>9.0</td>\n",
       "      <td>.800</td>\n",
       "      <td>.400</td>\n",
       "      <td>.200</td>\n",
       "      <td>.200</td>\n",
       "      <td>.000</td>\n",
       "      <td>.200</td>\n",
       "      <td>.500</td>\n",
       "      <td>1.000</td>\n",
       "      <td>.000</td>\n",
       "      <td>.000</td>\n",
       "      <td>NaN</td>\n",
       "      <td>.000</td>\n",
       "      <td>1.000</td>\n",
       "      <td>.000</td>\n",
       "      <td>0</td>\n",
       "      <td>NaN</td>\n",
       "      <td>.000</td>\n",
       "      <td>NaN</td>\n",
       "      <td>0</td>\n",
       "      <td>0</td>\n",
       "    </tr>\n",
       "    <tr>\n",
       "      <td>559</td>\n",
       "      <td>16</td>\n",
       "      <td>Josh Gray\\grayjo01</td>\n",
       "      <td>26</td>\n",
       "      <td>2</td>\n",
       "      <td>23</td>\n",
       "      <td>.500</td>\n",
       "      <td>1.5</td>\n",
       "      <td>1.000</td>\n",
       "      <td>1.000</td>\n",
       "      <td>.000</td>\n",
       "      <td>.000</td>\n",
       "      <td>.000</td>\n",
       "      <td>.000</td>\n",
       "      <td>.500</td>\n",
       "      <td>.500</td>\n",
       "      <td>NaN</td>\n",
       "      <td>NaN</td>\n",
       "      <td>NaN</td>\n",
       "      <td>NaN</td>\n",
       "      <td>.000</td>\n",
       "      <td>.000</td>\n",
       "      <td>0</td>\n",
       "      <td>NaN</td>\n",
       "      <td>NaN</td>\n",
       "      <td>NaN</td>\n",
       "      <td>0</td>\n",
       "      <td>0</td>\n",
       "    </tr>\n",
       "  </tbody>\n",
       "</table>\n",
       "<p>560 rows × 27 columns</p>\n",
       "</div>"
      ],
      "text/plain": [
       "    Unnamed: 0                          Unnamed: 1 Unnamed: 2 Unnamed: 3  \\\n",
       "0          NaN                                 NaN        NaN        NaN   \n",
       "1           Rk                                 NaN        Age          G   \n",
       "2            1             Fred VanVleet\\vanvlfr01         25         47   \n",
       "3            2                OG Anunoby\\anunoog01         22         56   \n",
       "4            3                Kyle Lowry\\lowryky01         33         45   \n",
       "..         ...                                 ...        ...        ...   \n",
       "555         12  Nickeil Alexander-Walker\\alexani01         21         41   \n",
       "556         13             Jahlil Okafor\\okafoja01         24         27   \n",
       "557         14           Zion Williamson\\willizi01         19         12   \n",
       "558         15            Zylan Cheatham\\cheatzy01         24          3   \n",
       "559         16                  Josh Gray\\grayjo01         26          2   \n",
       "\n",
       "    Unnamed: 4 Unnamed: 5 Unnamed: 6            Unnamed: 7  \\\n",
       "0          NaN        NaN        NaN  % of FGA by Distance   \n",
       "1           MP        FG%      Dist.                    2P   \n",
       "2         1682       .410       15.3                  .521   \n",
       "3         1640       .499       11.7                  .593   \n",
       "4         1635       .420       18.1                  .431   \n",
       "..         ...        ...        ...                   ...   \n",
       "555        501       .339       16.3                  .485   \n",
       "556        420       .611        3.8                  .986   \n",
       "557        337       .586        4.1                  .934   \n",
       "558         31       .400        9.0                  .800   \n",
       "559         23       .500        1.5                 1.000   \n",
       "\n",
       "               Unnamed: 8            Unnamed: 9           Unnamed: 10  \\\n",
       "0    % of FGA by Distance  % of FGA by Distance  % of FGA by Distance   \n",
       "1                     0-3                  3-10                 10-16   \n",
       "2                    .316                  .105                  .039   \n",
       "3                    .453                  .109                  .020   \n",
       "4                    .211                  .098                  .049   \n",
       "..                    ...                   ...                   ...   \n",
       "555                  .229                  .172                  .057   \n",
       "556                  .576                  .361                  .042   \n",
       "557                  .746                  .155                  .017   \n",
       "558                  .400                  .200                  .200   \n",
       "559                 1.000                  .000                  .000   \n",
       "\n",
       "              Unnamed: 11           Unnamed: 12      Unnamed: 13  \\\n",
       "0    % of FGA by Distance  % of FGA by Distance  FG% by Distance   \n",
       "1                  16-3pt                    3P              2P%   \n",
       "2                    .061                  .479             .430   \n",
       "3                    .011                  .407             .592   \n",
       "4                    .074                  .569             .504   \n",
       "..                    ...                   ...              ...   \n",
       "555                  .026                  .515             .336   \n",
       "556                  .000                  .014             .613   \n",
       "557                  .017                  .066             .598   \n",
       "558                  .000                  .200             .500   \n",
       "559                  .000                  .000             .500   \n",
       "\n",
       "         Unnamed: 14      Unnamed: 15      Unnamed: 16      Unnamed: 17  \\\n",
       "0    FG% by Distance  FG% by Distance  FG% by Distance  FG% by Distance   \n",
       "1                0-3             3-10            10-16           16-3pt   \n",
       "2               .548             .194             .296             .310   \n",
       "3               .683             .300             .333             .200   \n",
       "4               .649             .323             .452             .362   \n",
       "..               ...              ...              ...              ...   \n",
       "555             .462             .205             .231             .333   \n",
       "556             .747             .423             .333              NaN   \n",
       "557             .689             .250             .333             .000   \n",
       "558            1.000             .000             .000              NaN   \n",
       "559             .500              NaN              NaN              NaN   \n",
       "\n",
       "         Unnamed: 18 2-Pt Field Goals 2-Pt Field Goals.1 2-Pt Field Goals.2  \\\n",
       "0    FG% by Distance              NaN              Dunks              Dunks   \n",
       "1                3P%           %Ast'd               %FGA                Md.   \n",
       "2               .389             .175               .000                  0   \n",
       "3               .364             .665               .153                 67   \n",
       "4               .357             .239               .000                  0   \n",
       "..               ...              ...                ...                ...   \n",
       "555             .342             .135               .004                  1   \n",
       "556             .500             .552               .132                 16   \n",
       "557             .417             .743               .171                 28   \n",
       "558             .000            1.000               .000                  0   \n",
       "559              NaN             .000               .000                  0   \n",
       "\n",
       "    3-Pt Field Goals 3-Pt Field Goals.1 3-Pt Field Goals.2 3-Pt Field Goals.3  \\\n",
       "0                NaN             Corner             Corner             Heaves   \n",
       "1             %Ast'd               %3PA                3P%               Att.   \n",
       "2               .711               .158               .442                  1   \n",
       "3               .941               .497               .355                  0   \n",
       "4               .543               .086               .323                  4   \n",
       "..               ...                ...                ...                ...   \n",
       "555             .900               .188               .364                  4   \n",
       "556            1.000               .000                NaN                  0   \n",
       "557            1.000               .000                NaN                  0   \n",
       "558              NaN               .000                NaN                  0   \n",
       "559              NaN                NaN                NaN                  0   \n",
       "\n",
       "    3-Pt Field Goals.4  \n",
       "0               Heaves  \n",
       "1                  Md.  \n",
       "2                    0  \n",
       "3                    0  \n",
       "4                    0  \n",
       "..                 ...  \n",
       "555                  0  \n",
       "556                  0  \n",
       "557                  0  \n",
       "558                  0  \n",
       "559                  0  \n",
       "\n",
       "[560 rows x 27 columns]"
      ]
     },
     "execution_count": 79,
     "metadata": {},
     "output_type": "execute_result"
    }
   ],
   "source": [
    "data"
   ]
  },
  {
   "cell_type": "code",
   "execution_count": 65,
   "metadata": {},
   "outputs": [],
   "source": [
    "#soup.find_all('div')\n",
    "## funtion\n",
    "lst = []\n",
    "for link in soup.findAll('a'):\n",
    "        lst.append(link.string)"
   ]
  },
  {
   "cell_type": "code",
   "execution_count": 66,
   "metadata": {},
   "outputs": [
    {
     "data": {
      "text/plain": [
       "'Billy Donovan'"
      ]
     },
     "execution_count": 66,
     "metadata": {},
     "output_type": "execute_result"
    }
   ],
   "source": [
    "lst[39]"
   ]
  },
  {
   "cell_type": "code",
   "execution_count": 60,
   "metadata": {},
   "outputs": [],
   "source": [
    "webpage2 = requests.get('https://www.basketball-reference.com/teams/OKC/2020.html')\n",
    "soup2 = BeautifulSoup(webpage.text,'html.parser')"
   ]
  },
  {
   "cell_type": "code",
   "execution_count": 61,
   "metadata": {},
   "outputs": [],
   "source": [
    "lst2 = []\n",
    "for link in soup2.findAll('a'):\n",
    "        lst.append(link.string)"
   ]
  },
  {
   "cell_type": "code",
   "execution_count": 63,
   "metadata": {},
   "outputs": [
    {
     "data": {
      "text/plain": [
       "[]"
      ]
     },
     "execution_count": 63,
     "metadata": {},
     "output_type": "execute_result"
    }
   ],
   "source": [
    "lst2"
   ]
  },
  {
   "cell_type": "code",
   "execution_count": 9,
   "metadata": {},
   "outputs": [],
   "source": [
    "webpage = requests.get('https://www.basketball-reference.com/teams/')\n",
    "soup = BeautifulSoup(webpage.text,'html.parser')"
   ]
  },
  {
   "cell_type": "code",
   "execution_count": 10,
   "metadata": {},
   "outputs": [],
   "source": [
    "tag = soup.find_all(\"div\", {\"id\": \"all_teams_active\"})"
   ]
  },
  {
   "cell_type": "code",
   "execution_count": 11,
   "metadata": {},
   "outputs": [
    {
     "data": {
      "text/plain": [
       "[]"
      ]
     },
     "execution_count": 11,
     "metadata": {},
     "output_type": "execute_result"
    }
   ],
   "source": [
    "soup.find_all('a',class_='full_table')"
   ]
  },
  {
   "cell_type": "code",
   "execution_count": 12,
   "metadata": {},
   "outputs": [
    {
     "data": {
      "text/plain": [
       "[<a href=\"http://sportslogos.net/\">SportsLogos.net.</a>]"
      ]
     },
     "execution_count": 12,
     "metadata": {},
     "output_type": "execute_result"
    }
   ],
   "source": [
    "soup.findAll('a', attrs={'href': re.compile(\"^http://\")})"
   ]
  },
  {
   "cell_type": "code",
   "execution_count": 3,
   "metadata": {},
   "outputs": [],
   "source": [
    "def get_team_links():\n",
    "    '''\n",
    "    Description: This is a helper function that gets all of the team links.\n",
    "    --------------\n",
    "    Input: none\n",
    "    --------------\n",
    "    Output: A list of all the 2020 team names\n",
    "    \n",
    "    '''\n",
    "    \n",
    "    webpage = requests.get('https://www.basketball-reference.com/teams/')\n",
    "    soup = BeautifulSoup(webpage.text,'html.parser')\n",
    "    data = soup.findAll('div',attrs={'class':'table_outer_container'})\n",
    "    \n",
    "    team_list = []\n",
    "    \n",
    "    for div in data:\n",
    "        links = div.findAll('a')\n",
    "        \n",
    "    for a in links:\n",
    "        team_list.append(\"https://www.basketball-reference.com\" + a['href'])\n",
    "        \n",
    "    return team_list"
   ]
  },
  {
   "cell_type": "code",
   "execution_count": 4,
   "metadata": {},
   "outputs": [],
   "source": [
    "x = get_team_links()"
   ]
  },
  {
   "cell_type": "code",
   "execution_count": 5,
   "metadata": {},
   "outputs": [
    {
     "data": {
      "text/plain": [
       "['https://www.basketball-reference.com/teams/AND/',\n",
       " 'https://www.basketball-reference.com/teams/BLB/',\n",
       " 'https://www.basketball-reference.com/teams/CHS/',\n",
       " 'https://www.basketball-reference.com/teams/CLR/',\n",
       " 'https://www.basketball-reference.com/teams/DNN/',\n",
       " 'https://www.basketball-reference.com/teams/DTF/',\n",
       " 'https://www.basketball-reference.com/teams/INJ/',\n",
       " 'https://www.basketball-reference.com/teams/INO/',\n",
       " 'https://www.basketball-reference.com/teams/KEN/',\n",
       " 'https://www.basketball-reference.com/teams/MMS/',\n",
       " 'https://www.basketball-reference.com/teams/PTC/',\n",
       " 'https://www.basketball-reference.com/teams/PIT/',\n",
       " 'https://www.basketball-reference.com/teams/PRO/',\n",
       " 'https://www.basketball-reference.com/teams/SDS/',\n",
       " 'https://www.basketball-reference.com/teams/SHE/',\n",
       " 'https://www.basketball-reference.com/teams/SSL/',\n",
       " 'https://www.basketball-reference.com/teams/STB/',\n",
       " 'https://www.basketball-reference.com/teams/FLO/',\n",
       " 'https://www.basketball-reference.com/teams/TRH/',\n",
       " 'https://www.basketball-reference.com/teams/UTS/',\n",
       " 'https://www.basketball-reference.com/teams/VIR/',\n",
       " 'https://www.basketball-reference.com/teams/WSC/',\n",
       " 'https://www.basketball-reference.com/teams/WAT/']"
      ]
     },
     "execution_count": 5,
     "metadata": {},
     "output_type": "execute_result"
    }
   ],
   "source": [
    "x"
   ]
  },
  {
   "cell_type": "code",
   "execution_count": 98,
   "metadata": {},
   "outputs": [
    {
     "data": {
      "text/plain": [
       "['https://www.basketball-reference.com/teams/ATL/',\n",
       " 'https://www.basketball-reference.com/teams/BOS/',\n",
       " 'https://www.basketball-reference.com/teams/NJN/',\n",
       " 'https://www.basketball-reference.com/teams/CHA/',\n",
       " 'https://www.basketball-reference.com/teams/CHI/',\n",
       " 'https://www.basketball-reference.com/teams/CLE/',\n",
       " 'https://www.basketball-reference.com/teams/DAL/',\n",
       " 'https://www.basketball-reference.com/teams/DEN/',\n",
       " 'https://www.basketball-reference.com/teams/DET/',\n",
       " 'https://www.basketball-reference.com/teams/GSW/',\n",
       " 'https://www.basketball-reference.com/teams/HOU/',\n",
       " 'https://www.basketball-reference.com/teams/IND/',\n",
       " 'https://www.basketball-reference.com/teams/LAC/',\n",
       " 'https://www.basketball-reference.com/teams/LAL/',\n",
       " 'https://www.basketball-reference.com/teams/MEM/',\n",
       " 'https://www.basketball-reference.com/teams/MIA/',\n",
       " 'https://www.basketball-reference.com/teams/MIL/',\n",
       " 'https://www.basketball-reference.com/teams/MIN/',\n",
       " 'https://www.basketball-reference.com/teams/NOH/',\n",
       " 'https://www.basketball-reference.com/teams/NYK/',\n",
       " 'https://www.basketball-reference.com/teams/OKC/',\n",
       " 'https://www.basketball-reference.com/teams/ORL/',\n",
       " 'https://www.basketball-reference.com/teams/PHI/',\n",
       " 'https://www.basketball-reference.com/teams/PHO/',\n",
       " 'https://www.basketball-reference.com/teams/POR/',\n",
       " 'https://www.basketball-reference.com/teams/SAC/',\n",
       " 'https://www.basketball-reference.com/teams/SAS/',\n",
       " 'https://www.basketball-reference.com/teams/TOR/',\n",
       " 'https://www.basketball-reference.com/teams/UTA/',\n",
       " 'https://www.basketball-reference.com/teams/WAS/',\n",
       " 'https://www.basketball-reference.com/teams/AND/',\n",
       " 'https://www.basketball-reference.com/teams/BLB/',\n",
       " 'https://www.basketball-reference.com/teams/CHS/',\n",
       " 'https://www.basketball-reference.com/teams/CLR/',\n",
       " 'https://www.basketball-reference.com/teams/DNN/',\n",
       " 'https://www.basketball-reference.com/teams/DTF/',\n",
       " 'https://www.basketball-reference.com/teams/INJ/',\n",
       " 'https://www.basketball-reference.com/teams/INO/',\n",
       " 'https://www.basketball-reference.com/teams/KEN/',\n",
       " 'https://www.basketball-reference.com/teams/MMS/',\n",
       " 'https://www.basketball-reference.com/teams/PTC/',\n",
       " 'https://www.basketball-reference.com/teams/PIT/',\n",
       " 'https://www.basketball-reference.com/teams/PRO/',\n",
       " 'https://www.basketball-reference.com/teams/SDS/',\n",
       " 'https://www.basketball-reference.com/teams/SHE/',\n",
       " 'https://www.basketball-reference.com/teams/SSL/',\n",
       " 'https://www.basketball-reference.com/teams/STB/',\n",
       " 'https://www.basketball-reference.com/teams/FLO/',\n",
       " 'https://www.basketball-reference.com/teams/TRH/',\n",
       " 'https://www.basketball-reference.com/teams/UTS/',\n",
       " 'https://www.basketball-reference.com/teams/VIR/',\n",
       " 'https://www.basketball-reference.com/teams/WSC/',\n",
       " 'https://www.basketball-reference.com/teams/WAT/']"
      ]
     },
     "execution_count": 98,
     "metadata": {},
     "output_type": "execute_result"
    }
   ],
   "source": [
    "team_list"
   ]
  },
  {
   "cell_type": "code",
   "execution_count": 5,
   "metadata": {},
   "outputs": [],
   "source": [
    "data = pd.read_csv('/Users/brandonmojica/Desktop/Galvanize/Capstones/Capstone_3/nba_postion_classification/data/advanced_stats_2020.txt',sep=',')\n",
    "\n",
    "\n"
   ]
  },
  {
   "cell_type": "code",
   "execution_count": 12,
   "metadata": {},
   "outputs": [],
   "source": [
    "data.to_csv('/Users/brandonmojica/Desktop/Galvanize/Capstones/Capstone_3/nba_postion_classification/data/player_advanced_2020.csv')"
   ]
  },
  {
   "cell_type": "code",
   "execution_count": 11,
   "metadata": {},
   "outputs": [
    {
     "data": {
      "text/plain": [
       "'/Users/brandonmojica/Desktop/Galvanize/Capstones/Capstone_3/nba_postion_classification/notebooks'"
      ]
     },
     "execution_count": 11,
     "metadata": {},
     "output_type": "execute_result"
    }
   ],
   "source": [
    "pwd"
   ]
  },
  {
   "cell_type": "code",
   "execution_count": null,
   "metadata": {},
   "outputs": [],
   "source": []
  }
 ],
 "metadata": {
  "kernelspec": {
   "display_name": "Python 3",
   "language": "python",
   "name": "python3"
  },
  "language_info": {
   "codemirror_mode": {
    "name": "ipython",
    "version": 3
   },
   "file_extension": ".py",
   "mimetype": "text/x-python",
   "name": "python",
   "nbconvert_exporter": "python",
   "pygments_lexer": "ipython3",
   "version": "3.7.4"
  }
 },
 "nbformat": 4,
 "nbformat_minor": 2
}
